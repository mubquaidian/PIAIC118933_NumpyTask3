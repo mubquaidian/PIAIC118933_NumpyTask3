{
 "cells": [
  {
   "cell_type": "markdown",
   "metadata": {},
   "source": [
    "# Election Results\n",
    "\n",
    "You’re part of an impartial research group that conducts phone surveys prior to local elections. During this election season, the group conducted a survey to determine how many people would vote for I_Khan vs. S_Sharif in the presidential election.\n",
    "\n",
    "Now that the election has occurred, your group wants to compare the survey responses to the actual results.\n",
    "\n",
    "Was your survey a good indicator? Let’s find out!"
   ]
  },
  {
   "cell_type": "markdown",
   "metadata": {},
   "source": [
    "# PROJECT STEPS"
   ]
  },
  {
   "cell_type": "markdown",
   "metadata": {},
   "source": [
    "1.First, import numpy and matplotlib."
   ]
  },
  {
   "cell_type": "code",
   "execution_count": 2,
   "metadata": {},
   "outputs": [],
   "source": [
    "#type your code here\n",
    "import numpy as np\n",
    "import matplotlib.pyplot as plt\n",
    "# we are using Jupyter notebook, that's why\n",
    "%matplotlib inline"
   ]
  },
  {
   "cell_type": "markdown",
   "metadata": {},
   "source": [
    "2.There is a list given of the different survey responses.\n",
    "\n",
    "Calculate the number of people who answered ‘I_Khan’ and save the answer to the variable total_Khan.\n",
    "\n",
    "Print the variable to the terminal to see its value."
   ]
  },
  {
   "cell_type": "code",
   "execution_count": 3,
   "metadata": {},
   "outputs": [
    {
     "name": "stdout",
     "output_type": "stream",
     "text": [
      "['I_Khan' 'S_Sharif' 'I_Khan' 'I_Khan' 'I_Khan' 'S_Sharif' 'S_Sharif'\n",
      " 'I_Khan' 'I_Khan' 'I_Khan' 'S_Sharif' 'S_Sharif' 'I_Khan' 'I_Khan'\n",
      " 'S_Sharif' 'S_Sharif' 'I_Khan' 'I_Khan' 'S_Sharif' 'S_Sharif' 'S_Sharif'\n",
      " 'S_Sharif' 'S_Sharif' 'S_Sharif' 'I_Khan' 'I_Khan' 'I_Khan' 'I_Khan'\n",
      " 'I_Khan' 'I_Khan' 'S_Sharif' 'S_Sharif' 'I_Khan' 'I_Khan' 'I_Khan'\n",
      " 'S_Sharif' 'S_Sharif' 'I_Khan' 'I_Khan' 'S_Sharif' 'S_Sharif' 'I_Khan'\n",
      " 'I_Khan' 'S_Sharif' 'S_Sharif' 'S_Sharif' 'S_Sharif' 'S_Sharif'\n",
      " 'S_Sharif' 'I_Khan' 'S_Sharif' 'S_Sharif' 'I_Khan' 'I_Khan' 'I_Khan'\n",
      " 'S_Sharif' 'S_Sharif' 'I_Khan' 'I_Khan' 'S_Sharif' 'S_Sharif' 'I_Khan'\n",
      " 'I_Khan' 'S_Sharif' 'S_Sharif' 'S_Sharif' 'S_Sharif' 'S_Sharif'\n",
      " 'S_Sharif' 'I_Khan']\n",
      "\n",
      "Total responses for I_Khan:\n",
      "33\n"
     ]
    }
   ],
   "source": [
    "survey_responses = ['Ceballos', 'Kerrigan', 'Ceballos', 'Ceballos', 'Ceballos','Kerrigan',\n",
    "                    'Kerrigan', 'Ceballos', 'Ceballos', 'Ceballos', 'Kerrigan', 'Kerrigan',\n",
    "                    'Ceballos', 'Ceballos', 'Kerrigan', 'Kerrigan','Ceballos', 'Ceballos', \n",
    "                    'Kerrigan', 'Kerrigan', 'Kerrigan', 'Kerrigan', 'Kerrigan', 'Kerrigan', \n",
    "                    'Ceballos', 'Ceballos', 'Ceballos', 'Ceballos', 'Ceballos', 'Ceballos',\n",
    "                    'Kerrigan', 'Kerrigan', 'Ceballos', 'Ceballos', 'Ceballos', 'Kerrigan',\n",
    "                    'Kerrigan', 'Ceballos', 'Ceballos', 'Kerrigan', 'Kerrigan', 'Ceballos', \n",
    "                    'Ceballos', 'Kerrigan', 'Kerrigan', 'Kerrigan', 'Kerrigan', 'Kerrigan',\n",
    "                    'Kerrigan', 'Ceballos','Kerrigan', 'Kerrigan', 'Ceballos', 'Ceballos', \n",
    "                    'Ceballos', 'Kerrigan', 'Kerrigan', 'Ceballos', 'Ceballos', 'Kerrigan', \n",
    "                    'Kerrigan', 'Ceballos', 'Ceballos', 'Kerrigan', 'Kerrigan', 'Kerrigan', \n",
    "                    'Kerrigan', 'Kerrigan', 'Kerrigan', 'Ceballos']\n",
    "\n",
    "#type your code here\n",
    "\n",
    "survey_responses = np.array(survey_responses)\n",
    "survey_responses\n",
    "# lets us replace one of the element 'Ceballos' with I_Khan as mentioned in this Question as it is requirement\n",
    "survey_responses = np.where(survey_responses == 'Ceballos', 'I_Khan',survey_responses)\n",
    "survey_responses\n",
    "# as well as 'Kerrigan' with S_Sharif\n",
    "survey_responses = np.where(survey_responses == 'Kerrigan', 'S_Sharif',survey_responses)\n",
    "print(survey_responses)\n",
    "# let's find out total_Khan as required \n",
    "total_Khan = np.count_nonzero(survey_responses == 'I_Khan')\n",
    "print(f'\\nTotal responses for I_Khan:\\n{total_Khan}')"
   ]
  },
  {
   "cell_type": "markdown",
   "metadata": {},
   "source": [
    "3.Calculate the percentage of people in the survey who voted for I_Khan and save it to the variable percentage_I_Khan.\n",
    "\n",
    "Print the variable to the terminal to see its value."
   ]
  },
  {
   "cell_type": "code",
   "execution_count": 4,
   "metadata": {},
   "outputs": [
    {
     "name": "stdout",
     "output_type": "stream",
     "text": [
      "Percentage of people's responses to I_Khan:\n",
      "47%\n"
     ]
    }
   ],
   "source": [
    "#type your code here\n",
    "# let's find out how many total responses are there then let's find out % of people responded for I_Khan\n",
    "g_total_responses = np.count_nonzero(survey_responses)\n",
    "g_total_responses\n",
    "# assigning a variable percentage_I_Khan for the responses for I_Khan\n",
    "percentage_I_Khan = (total_Khan/g_total_responses)*100\n",
    "print(f\"Percentage of people's responses to I_Khan:\\n{round(percentage_I_Khan)}%\") # rounded off %age figure"
   ]
  },
  {
   "cell_type": "markdown",
   "metadata": {},
   "source": [
    "4.In the real election, 54% of the 10,000 town population voted for I_Khan. Your supervisors are concerned because this is a very different outcome than what the poll predicted. They want you to determine if there is something wrong with the poll or if given the sample size, it was an entirely reasonable result.\n",
    "\n",
    "Generate a binomial distribution that takes the number of total survey responses, the actual success rate, and the size of the town’s population as its parameters. Then divide the distribution by the number of survey responses. Save your calculation to the variable possible_surveys.\n",
    "\n",
    "######### hint###########\n",
    "possible_surveys = \n",
    "np.random.binomial(total of survey responses, the actual success rate,and the size of the town’s population ) "
   ]
  },
  {
   "cell_type": "code",
   "execution_count": 36,
   "metadata": {},
   "outputs": [
    {
     "data": {
      "text/plain": [
       "array([0.4       , 0.51428571, 0.55714286, ..., 0.51428571, 0.58571429,\n",
       "       0.58571429])"
      ]
     },
     "execution_count": 36,
     "metadata": {},
     "output_type": "execute_result"
    }
   ],
   "source": [
    "#type your code here\n",
    "np.random.seed(12345)\n",
    "possible_surveys = np.random.binomial(g_total_responses, 54/100, 10000)/70 \n",
    "# 54/100 is for 54% and divided the distribution by the number of survey responses\n",
    "possible_surveys"
   ]
  },
  {
   "cell_type": "markdown",
   "metadata": {},
   "source": [
    "\n",
    "      #######Optional########\n",
    "5.By using matplotlib Plot a histogram of possible_surveys with a range of 0-1 and 20 bins.\n"
   ]
  },
  {
   "cell_type": "code",
   "execution_count": 37,
   "metadata": {},
   "outputs": [
    {
     "data": {
      "image/png": "[encoded data removed]",
      "text/plain": [
       "<Figure size 432x288 with 1 Axes>"
      ]
     },
     "metadata": {
      "needs_background": "light"
     },
     "output_type": "display_data"
    }
   ],
   "source": [
    "#type your code here\n",
    "plt.hist(possible_surveys,range=(0,1), bins=20)\n",
    "plt.title(\"possible_survey Histogram\")\n",
    "plt.show()"
   ]
  },
  {
   "cell_type": "markdown",
   "metadata": {},
   "source": [
    "6.As we saw, 47% of people we surveyed said they would vote for I_Khan, but 54% of people voted for I_Khan in the actual election.\n",
    "\n",
    "Calculate the percentage of surveys that could have an outcome of I_Khan receiving less than 50% of the vote and save it to the variable I_Khan_loss_surveys.\n",
    "\n",
    "Print the variable to the terminal."
   ]
  },
  {
   "cell_type": "code",
   "execution_count": 38,
   "metadata": {},
   "outputs": [
    {
     "data": {
      "text/plain": [
       "21.21"
      ]
     },
     "execution_count": 38,
     "metadata": {},
     "output_type": "execute_result"
    }
   ],
   "source": [
    "#type your code here\n",
    "I_Khan_loss_surveys = np.mean(possible_surveys < 50/100)*100\n",
    "I_Khan_loss_surveys"
   ]
  },
  {
   "cell_type": "markdown",
   "metadata": {},
   "source": [
    "7.With this current poll, about 20% of the time a survey output would predict S_Sharif winning, even if I_Khan won the actual election.\n",
    "\n",
    "Your co-worker points out that your poll would be more accurate if it had more responders.\n",
    "\n",
    "Generate another binomial distribution, but this time, see what would happen if you had instead surveyed 7,000 people. Divide the distribution by the size of the survey and save your findings to large_survey.\n"
   ]
  },
  {
   "cell_type": "code",
   "execution_count": 40,
   "metadata": {},
   "outputs": [
    {
     "name": "stdout",
     "output_type": "stream",
     "text": [
      "[0.53942857 0.53785714 0.554      ... 0.53885714 0.54128571 0.54871429]\n"
     ]
    },
    {
     "data": {
      "image/png": "[encoded data removed]",
      "text/plain": [
       "<Figure size 432x288 with 1 Axes>"
      ]
     },
     "metadata": {
      "needs_background": "light"
     },
     "output_type": "display_data"
    }
   ],
   "source": [
    "#type your code here\n",
    "np.random.seed(12345)\n",
    "large_survey = np.random.binomial(7000,54/100,100000)/7000\n",
    "print(large_survey)\n",
    "plt.hist(large_survey,range=(0,1), bins=20)\n",
    "plt.title(\"large_survey Histogram\")\n",
    "plt.show()"
   ]
  },
  {
   "cell_type": "markdown",
   "metadata": {},
   "source": [
    "8.Now, recalculate the percentage of surveys that would have an outcome of I_Khan losing and save it to the variable I_Khan_loss_new, and print the value to the terminal.\n",
    "\n",
    "What do we notice about this new value?\n",
    "\n",
    "What advice would you give to your supervisors about predicting results from surveys?\n"
   ]
  },
  {
   "cell_type": "code",
   "execution_count": 41,
   "metadata": {},
   "outputs": [
    {
     "name": "stdout",
     "output_type": "stream",
     "text": [
      "The probability of losing of I_Khan is 0. \n",
      "I would like to advise to my supervisors about pridicting from surveys that they should increase the size of responders/voters which is 7% of total population to achieve 0% loss in election.\n"
     ]
    }
   ],
   "source": [
    "#type your code here\n",
    "I_Khan_loss_new = np.mean(large_survey < 50/100)*100\n",
    "I_Khan_loss_new\n",
    "print(f\"The probability of losing of I_Khan is {round(I_Khan_loss_new)}. \")\n",
    "print(\"I would like to advise to my supervisors about pridicting from surveys that \\\n",
    "they should increase the size of responders/voters which is 7% of total population \\\n",
    "to achieve 0% loss in election.\")"
   ]
  }
 ],
 "metadata": {
  "kernelspec": {
   "display_name": "Python 3",
   "language": "python",
   "name": "python3"
  },
  "language_info": {
   "codemirror_mode": {
    "name": "ipython",
    "version": 3
   },
   "file_extension": ".py",
   "mimetype": "text/x-python",
   "name": "python",
   "nbconvert_exporter": "python",
   "pygments_lexer": "ipython3",
   "version": "3.9.1"
  }
 },
 "nbformat": 4,
 "nbformat_minor": 2
}
